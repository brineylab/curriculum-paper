{
 "cells": [
  {
   "cell_type": "code",
   "execution_count": null,
   "id": "d8e735ca-c428-4e14-8047-bbe038db0c44",
   "metadata": {
    "tags": []
   },
   "outputs": [],
   "source": [
    "import pandas as pd\n",
    "import numpy as np\n",
    "import seaborn as sns\n",
    "import matplotlib.pyplot as plt"
   ]
  },
  {
   "cell_type": "markdown",
   "id": "3d56aa70-b04d-4438-aa40-18268e526470",
   "metadata": {},
   "source": [
    "## load data\n",
    "\n",
    "annotated sequences"
   ]
  },
  {
   "cell_type": "code",
   "execution_count": null,
   "id": "4acd0b47-ef60-4681-ad7e-ac2a6ab07629",
   "metadata": {
    "scrolled": true,
    "tags": []
   },
   "outputs": [],
   "source": [
    "test = pd.read_csv('./data/TTE-ds/annotated/unpaired-1k-annotated.csv')[['sequence_id', 'cdr_mask']]"
   ]
  },
  {
   "cell_type": "markdown",
   "id": "f2878488-fda9-48cf-af34-45590e48c2e2",
   "metadata": {},
   "source": [
    "inference results"
   ]
  },
  {
   "cell_type": "code",
   "execution_count": null,
   "id": "17d81383-64a3-43b0-9b33-8172c016ccfb",
   "metadata": {},
   "outputs": [],
   "source": [
    "models = ['paired-absolute', 'paired-rotary', 'unpaired-absolute', 'unpaired-rotary']"
   ]
  },
  {
   "cell_type": "code",
   "execution_count": null,
   "id": "589bf64c-a2d0-4172-aa61-67561200a509",
   "metadata": {},
   "outputs": [],
   "source": [
    "results = []\n",
    "for model in models:\n",
    "    res = pd.read_parquet(f'./results/per-position/{model}_unpaired1k-perpos-loss.parquet')\n",
    "    res = res.merge(test, on='sequence_id')\n",
    "    results.append(res)"
   ]
  },
  {
   "cell_type": "code",
   "execution_count": null,
   "id": "5e08e3dc-9cc1-4980-8878-d3d9f8e1ef9a",
   "metadata": {},
   "outputs": [],
   "source": [
    "len(results)"
   ]
  },
  {
   "cell_type": "markdown",
   "id": "7a9efa63-6654-42e6-951b-e67d2d1f7cef",
   "metadata": {},
   "source": [
    "## processing"
   ]
  },
  {
   "cell_type": "code",
   "execution_count": null,
   "id": "2c1ceeaf-0fcc-409f-a2cc-4d6ea2f8816b",
   "metadata": {},
   "outputs": [],
   "source": [
    "def region_processing(df, ppl_data, model):\n",
    "    \n",
    "    regions = ['fwr1', 'cdr1', 'fwr2', 'cdr2', 'fwr3', 'cdr3', 'fwr4']\n",
    "\n",
    "    for _, r in df.iterrows():\n",
    "        hloss = r['loss']\n",
    "        cdr_mask = r['cdr_mask']\n",
    "\n",
    "        # find regions\n",
    "        mask_segments = []\n",
    "        prev_char = cdr_mask[0]\n",
    "        start_idx = 0\n",
    "\n",
    "        for i, char in enumerate(cdr_mask):\n",
    "            if char != prev_char:  # region change\n",
    "                mask_segments.append((start_idx, i))\n",
    "                start_idx = i\n",
    "            prev_char = char\n",
    "        mask_segments.append((start_idx, len(cdr_mask))) # final region\n",
    "\n",
    "        assert len(mask_segments) == len(regions)\n",
    "\n",
    "        for (region, (hstart, hend)) in zip(regions, mask_segments):\n",
    "            region_loss = hloss[hstart:hend]\n",
    "\n",
    "            ppl_data.append({\n",
    "                'region': region,\n",
    "                'model': model,\n",
    "                'chain': r['locus'],\n",
    "                'loss': region_loss,\n",
    "                'mean_loss': np.mean(region_loss),\n",
    "                'median_loss': np.median(region_loss),\n",
    "            })\n",
    "    \n",
    "    return ppl_data"
   ]
  },
  {
   "cell_type": "code",
   "execution_count": null,
   "id": "6e1171c5",
   "metadata": {
    "scrolled": true
   },
   "outputs": [],
   "source": [
    "ppl_data = []\n",
    "for dataset, model in zip(results, models):\n",
    "    ppl_data = region_processing(dataset, ppl_data, model)"
   ]
  },
  {
   "cell_type": "code",
   "execution_count": null,
   "id": "f59039ae",
   "metadata": {},
   "outputs": [],
   "source": [
    "ppl_df = pd.DataFrame(ppl_data)\n",
    "ppl_df"
   ]
  },
  {
   "cell_type": "markdown",
   "id": "0f55637d-393a-4a22-9386-a7312724f02e",
   "metadata": {},
   "source": [
    "## plot"
   ]
  },
  {
   "cell_type": "code",
   "execution_count": null,
   "id": "3472e8f5-fddf-4b15-9372-7e84df65d191",
   "metadata": {},
   "outputs": [],
   "source": [
    "# regions for axis labels\n",
    "H_REGIONS = ['FRH1', 'CDRH1', 'FRH2', 'CDRH2', 'FRH3', 'CDRH3', 'FRH4']\n",
    "L_REGIONS = ['FRL1', 'CDRL1', 'FRL2', 'CDRL2', 'FRL3', 'CDRL3', 'FRL4']"
   ]
  },
  {
   "cell_type": "code",
   "execution_count": null,
   "id": "90274974-5f01-4301-a3f8-d11f305928c0",
   "metadata": {},
   "outputs": [],
   "source": [
    "# plotting paired models only\n",
    "paired_models = ['paired-absolute', 'paired-rotary']"
   ]
  },
  {
   "cell_type": "code",
   "execution_count": null,
   "id": "dc87eba6-f8d7-43aa-81b3-baff26bf658c",
   "metadata": {},
   "outputs": [],
   "source": [
    "# select color palette\n",
    "color_palette = sns.color_palette(\"hls\", 8)\n",
    "paired_colors = [color_palette[4], color_palette[5]]"
   ]
  },
  {
   "cell_type": "code",
   "execution_count": null,
   "id": "708d0156-1087-4edb-883d-94e3f4959ee7",
   "metadata": {},
   "outputs": [],
   "source": [
    "fig, ax = plt.subplots(2, 1, figsize=(8, 6))\n",
    "\n",
    "for i, chain in enumerate([\"heavy\", \"light\"]):\n",
    "    # boxplot\n",
    "    sns.boxenplot(\n",
    "        data=ppl_df[(ppl_df['chain']==chain) & (ppl_df['model'].isin(paired_models))], \n",
    "        x='region', \n",
    "        y='median_loss', \n",
    "        hue='model', \n",
    "        palette=paired_colors,\n",
    "        dodge=True,\n",
    "        showfliers=False,\n",
    "        k_depth='proportion',\n",
    "        outlier_prop=0.1,\n",
    "        width=0.7,\n",
    "        saturation=1,\n",
    "        ax=ax[i],\n",
    "    )\n",
    "\n",
    "    # ticks\n",
    "    ax[i].tick_params(axis='x', labelsize=11)\n",
    "    ax[i].set_xticks(range(len(L_REGIONS)))\n",
    "    ax[i].set_xticklabels(L_REGIONS if chain == 'light' else H_REGIONS) \n",
    "\n",
    "    # labels\n",
    "    ax[i].set_xlabel('', fontsize=0)\n",
    "    ax[i].set_ylabel(f'{chain.title()} Chain \\n Per-position CE Loss', fontsize=12)\n",
    "\n",
    "    # remove legends\n",
    "    ax[i].get_legend().remove()\n",
    "\n",
    "plt.savefig(\"./results/paired-model_unpaired-loss.png\", bbox_inches='tight', dpi=300)"
   ]
  },
  {
   "cell_type": "code",
   "execution_count": null,
   "id": "be17a169-b0db-4217-b053-a2dccc91a2d1",
   "metadata": {},
   "outputs": [],
   "source": []
  }
 ],
 "metadata": {
  "kernelspec": {
   "display_name": "Python 3 (ipykernel)",
   "language": "python",
   "name": "python3"
  },
  "language_info": {
   "codemirror_mode": {
    "name": "ipython",
    "version": 3
   },
   "file_extension": ".py",
   "mimetype": "text/x-python",
   "name": "python",
   "nbconvert_exporter": "python",
   "pygments_lexer": "ipython3",
   "version": "3.11.10"
  }
 },
 "nbformat": 4,
 "nbformat_minor": 5
}
