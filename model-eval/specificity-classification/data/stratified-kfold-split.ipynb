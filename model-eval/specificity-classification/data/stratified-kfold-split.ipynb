{
 "cells": [
  {
   "cell_type": "code",
   "execution_count": null,
   "id": "382c4ac6-e5cf-407b-9636-a4b6be34728d",
   "metadata": {},
   "outputs": [],
   "source": [
    "import pandas as pd\n",
    "from sklearn.model_selection import StratifiedKFold"
   ]
  },
  {
   "cell_type": "code",
   "execution_count": null,
   "id": "21e83caa-766a-48c8-9c0e-eff3e2c9a3f2",
   "metadata": {},
   "outputs": [],
   "source": [
    "k = 5\n",
    "seed = 42"
   ]
  },
  {
   "cell_type": "code",
   "execution_count": null,
   "id": "7c20159b-cb1e-4568-87a8-18c548739d09",
   "metadata": {},
   "outputs": [],
   "source": [
    "data = pd.read_csv(\"./hd-0_flu-1_cov-2_clust99_20250107.csv\")"
   ]
  },
  {
   "cell_type": "code",
   "execution_count": null,
   "id": "d777bcaa-f3da-466d-90b2-d0117e5d61f5",
   "metadata": {},
   "outputs": [],
   "source": [
    "skf = StratifiedKFold(n_splits=k, shuffle=True, random_state=seed)\n",
    "X = data.drop(\"label\", axis=1)\n",
    "y = data.loc[:, \"label\"].astype(\"int64\")"
   ]
  },
  {
   "cell_type": "code",
   "execution_count": null,
   "id": "9872ee22-65d4-4d53-846e-5f01c6a86fe5",
   "metadata": {},
   "outputs": [],
   "source": [
    "for i, (train_index, test_index) in enumerate(skf.split(X, y)):\n",
    "\n",
    "    # select data by each CV fold\n",
    "    train = data.loc[train_index].reset_index(drop=True)\n",
    "    test = data.loc[test_index].reset_index(drop=True)\n",
    "\n",
    "    print(len(train), len(test))\n",
    "    \n",
    "    # save\n",
    "    train.to_csv(f'./TTE/hd-0_flu-1_cov-2_train{i}.csv', index=False)\n",
    "    test.to_csv(f'./TTE/hd-0_flu-1_cov-2_test{i}.csv', index=False)"
   ]
  }
 ],
 "metadata": {
  "kernelspec": {
   "display_name": "Python 3 (ipykernel)",
   "language": "python",
   "name": "python3"
  },
  "language_info": {
   "codemirror_mode": {
    "name": "ipython",
    "version": 3
   },
   "file_extension": ".py",
   "mimetype": "text/x-python",
   "name": "python",
   "nbconvert_exporter": "python",
   "pygments_lexer": "ipython3",
   "version": "3.11.10"
  }
 },
 "nbformat": 4,
 "nbformat_minor": 5
}
