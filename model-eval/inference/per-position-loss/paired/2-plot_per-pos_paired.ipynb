{
 "cells": [
  {
   "cell_type": "code",
   "execution_count": null,
   "id": "d8e735ca-c428-4e14-8047-bbe038db0c44",
   "metadata": {
    "tags": []
   },
   "outputs": [],
   "source": [
    "import pandas as pd\n",
    "import numpy as np\n",
    "import seaborn as sns\n",
    "import matplotlib.pyplot as plt"
   ]
  },
  {
   "cell_type": "markdown",
   "id": "3d56aa70-b04d-4438-aa40-18268e526470",
   "metadata": {},
   "source": [
    "## load data\n",
    "\n",
    "annotated sequences"
   ]
  },
  {
   "cell_type": "code",
   "execution_count": null,
   "id": "d179a5cd-8ad6-4dbf-ac52-227a8a192528",
   "metadata": {
    "scrolled": true,
    "tags": []
   },
   "outputs": [],
   "source": [
    "test = pd.read_csv('./data/TTE-ds/annotated/paired-1k-annotated.csv')\n",
    "test = test[['sequence_id', 'cdr_mask_heavy', 'cdr_mask_light']]"
   ]
  },
  {
   "cell_type": "markdown",
   "id": "f2878488-fda9-48cf-af34-45590e48c2e2",
   "metadata": {},
   "source": [
    "inference results"
   ]
  },
  {
   "cell_type": "code",
   "execution_count": null,
   "id": "1ec49cc7-6949-4f53-a2d8-33b6d9f4f57a",
   "metadata": {},
   "outputs": [],
   "source": [
    "models = ['paired-absolute', 'paired-rotary', 'unpaired-absolute', 'unpaired-rotary']"
   ]
  },
  {
   "cell_type": "code",
   "execution_count": null,
   "id": "42b2aefb-06eb-4b27-8940-f2ba76a984e4",
   "metadata": {
    "scrolled": true
   },
   "outputs": [],
   "source": [
    "results = []\n",
    "for model in models:\n",
    "    res = pd.read_parquet(f'./results/per-position/{model}_paired1k-perpos-loss.parquet')\n",
    "    res = res.merge(test, on='sequence_id')\n",
    "    results.append(res)"
   ]
  },
  {
   "cell_type": "code",
   "execution_count": null,
   "id": "ae08e812-095c-417a-bb85-db253eeeb876",
   "metadata": {},
   "outputs": [],
   "source": [
    "len(results)"
   ]
  },
  {
   "cell_type": "markdown",
   "id": "7a9efa63-6654-42e6-951b-e67d2d1f7cef",
   "metadata": {},
   "source": [
    "## processing"
   ]
  },
  {
   "cell_type": "code",
   "execution_count": null,
   "id": "e26f9001",
   "metadata": {},
   "outputs": [],
   "source": [
    "# separate heavy and light chain losses\n",
    "def extract(df):\n",
    "    h_loss = []\n",
    "    l_loss = []\n",
    "\n",
    "    for _, r in df.iterrows():\n",
    "        hlen = len(r['heavy'])\n",
    "        seplen = r['sep'].count('<')\n",
    "        h_loss.append(r['loss'][:hlen])\n",
    "        l_loss.append(r['loss'][hlen:])\n",
    "\n",
    "    df['heavy_loss'] = h_loss\n",
    "    df['light_loss'] = l_loss\n",
    "\n",
    "    return df"
   ]
  },
  {
   "cell_type": "code",
   "execution_count": null,
   "id": "52997fed",
   "metadata": {},
   "outputs": [],
   "source": [
    "results = [extract(dataset) for dataset in results]"
   ]
  },
  {
   "cell_type": "code",
   "execution_count": null,
   "id": "2c1ceeaf-0fcc-409f-a2cc-4d6ea2f8816b",
   "metadata": {},
   "outputs": [],
   "source": [
    "# extract loss by region\n",
    "def region_processing(df, ppl_data, model):\n",
    "\n",
    "    regions = ['fwr1', 'cdr1', 'fwr2', 'cdr2', 'fwr3', 'cdr3', 'fwr4']\n",
    "    \n",
    "    for _, r in df.iterrows():\n",
    "\n",
    "        # for both chains separately\n",
    "        for chain in ['heavy', 'light']:\n",
    "            loss = r[f'{chain}_loss']\n",
    "            cdr_mask = r[f'cdr_mask_{chain}']\n",
    "    \n",
    "            # find regions\n",
    "            mask_segments = []\n",
    "            prev_char = cdr_mask[0]\n",
    "            start_idx = 0\n",
    "    \n",
    "            for i, char in enumerate(cdr_mask):\n",
    "                if char != prev_char:  # region change\n",
    "                    mask_segments.append((start_idx, i))\n",
    "                    start_idx = i\n",
    "                prev_char = char\n",
    "            mask_segments.append((start_idx, len(cdr_mask))) # final region\n",
    "    \n",
    "            assert len(mask_segments) == len(regions) \n",
    "\n",
    "            # extract by region\n",
    "            for (region, (hstart, hend)) in zip(regions, mask_segments):\n",
    "                region_loss = loss[hstart:hend]\n",
    "    \n",
    "                ppl_data.append({\n",
    "                    'region': region,\n",
    "                    'model': model,\n",
    "                    'chain': chain,\n",
    "                    'loss': region_loss,\n",
    "                    'mean_loss': np.mean(region_loss),\n",
    "                    'median_loss': np.median(region_loss),\n",
    "                })    \n",
    "            \n",
    "    return ppl_data"
   ]
  },
  {
   "cell_type": "code",
   "execution_count": null,
   "id": "6e1171c5",
   "metadata": {},
   "outputs": [],
   "source": [
    "ppl_data = []\n",
    "for dataset, model in zip(results, models):\n",
    "    ppl_data = region_processing(dataset, ppl_data, model)"
   ]
  },
  {
   "cell_type": "code",
   "execution_count": null,
   "id": "f59039ae",
   "metadata": {
    "scrolled": true
   },
   "outputs": [],
   "source": [
    "ppl_df = pd.DataFrame(ppl_data)\n",
    "ppl_df"
   ]
  },
  {
   "cell_type": "markdown",
   "id": "731d0369-f479-43d3-9b0e-a6064b77e892",
   "metadata": {},
   "source": [
    "## plot"
   ]
  },
  {
   "cell_type": "code",
   "execution_count": null,
   "id": "6adb5f32-a2c1-4942-b70b-ad8abc41e3a0",
   "metadata": {},
   "outputs": [],
   "source": [
    "# regions for axis labels\n",
    "H_REGIONS = ['FRH1', 'CDRH1', 'FRH2', 'CDRH2', 'FRH3', 'CDRH3', 'FRH4']\n",
    "L_REGIONS = ['FRL1', 'CDRL1', 'FRL2', 'CDRL2', 'FRL3', 'CDRL3', 'FRL4']"
   ]
  },
  {
   "cell_type": "code",
   "execution_count": null,
   "id": "a9fd1917-b53b-4d34-b014-db7c9790f25a",
   "metadata": {},
   "outputs": [],
   "source": [
    "# plotting unpaired models only\n",
    "unpaired_models = ['unpaired-absolute', 'unpaired-rotary']"
   ]
  },
  {
   "cell_type": "code",
   "execution_count": null,
   "id": "958fb07b-eef9-4697-a8dc-8390b11d20bd",
   "metadata": {},
   "outputs": [],
   "source": [
    "# select color palette\n",
    "color_palette = sns.color_palette(\"hls\", 8)\n",
    "unpaired_colors = [color_palette[1], color_palette[0]]"
   ]
  },
  {
   "cell_type": "code",
   "execution_count": null,
   "id": "d180cc41-189f-4cb6-8390-af3f0ef71b65",
   "metadata": {},
   "outputs": [],
   "source": [
    "fig, ax = plt.subplots(2, 1, figsize=(8, 6))\n",
    "\n",
    "for i, chain in enumerate([\"heavy\", \"light\"]):\n",
    "    # boxplot\n",
    "    sns.boxenplot(\n",
    "        data=ppl_df[(ppl_df['chain']==chain) & (ppl_df['model'].isin(unpaired_models))], \n",
    "        x='region', \n",
    "        y='median_loss', \n",
    "        hue='model', \n",
    "        palette=unpaired_colors,\n",
    "        dodge=True,\n",
    "        showfliers=False,\n",
    "        k_depth='proportion',\n",
    "        outlier_prop=0.1,\n",
    "        width=0.7,\n",
    "        saturation=1,\n",
    "        ax=ax[i],\n",
    "    )\n",
    "\n",
    "    # ticks\n",
    "    ax[i].tick_params(axis='x', labelsize=11)\n",
    "    ax[i].set_xticks(range(len(L_REGIONS)))\n",
    "    ax[i].set_xticklabels(L_REGIONS if chain == 'light' else H_REGIONS) \n",
    "\n",
    "    # labels\n",
    "    ax[i].set_xlabel('', fontsize=0)\n",
    "    ax[i].set_ylabel(f'{chain.title()} Chain \\n Per-position CE Loss', fontsize=12)\n",
    "\n",
    "    # remove legends\n",
    "    ax[i].get_legend().remove()\n",
    "\n",
    "plt.savefig(\"./results/unpaired-model_paired-loss.png\", bbox_inches='tight', dpi=300)"
   ]
  },
  {
   "cell_type": "code",
   "execution_count": null,
   "id": "b0e46085-825e-496e-acef-8aa6cfbf8169",
   "metadata": {},
   "outputs": [],
   "source": []
  }
 ],
 "metadata": {
  "kernelspec": {
   "display_name": "Python 3 (ipykernel)",
   "language": "python",
   "name": "python3"
  },
  "language_info": {
   "codemirror_mode": {
    "name": "ipython",
    "version": 3
   },
   "file_extension": ".py",
   "mimetype": "text/x-python",
   "name": "python",
   "nbconvert_exporter": "python",
   "pygments_lexer": "ipython3",
   "version": "3.11.10"
  }
 },
 "nbformat": 4,
 "nbformat_minor": 5
}
