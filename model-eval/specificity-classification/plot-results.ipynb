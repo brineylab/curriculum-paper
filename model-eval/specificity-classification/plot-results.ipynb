{
 "cells": [
  {
   "cell_type": "code",
   "execution_count": 4,
   "metadata": {},
   "outputs": [],
   "source": [
    "import pandas as pd\n",
    "import matplotlib.pyplot as plt\n",
    "import seaborn as sns"
   ]
  },
  {
   "cell_type": "markdown",
   "metadata": {},
   "source": [
    "### View classification results"
   ]
  },
  {
   "cell_type": "code",
   "execution_count": 6,
   "metadata": {},
   "outputs": [],
   "source": [
    "def combine_stats(list_of_paths):\n",
    "    # read all results files and combine\n",
    "    df = pd.concat([pd.read_csv(path) for path in list_of_paths]).reset_index(drop=True)\n",
    "\n",
    "    # get means and errors\n",
    "    means = df.groupby(\"model\").mean()\n",
    "    sem = df.groupby(\"model\").sem()\n",
    "\n",
    "    # combine in a readable table format\n",
    "    combined = means.copy()\n",
    "    for i in means.index:\n",
    "        for j in [col for col in means.columns if \"test\" in col]:\n",
    "            combined.loc[i,j] = f\"{str(round(means.loc[i,j], 4))} (\\xB1 {str(round(sem.loc[i,j], 4))})\"\n",
    "\n",
    "    return combined"
   ]
  },
  {
   "cell_type": "code",
   "execution_count": 15,
   "metadata": {},
   "outputs": [],
   "source": [
    "models = ['IgBERT', 'IgT5', 'AbLang2', 'AntiBERTa2', 'CurrAb']"
   ]
  },
  {
   "cell_type": "code",
   "execution_count": null,
   "metadata": {
    "scrolled": true
   },
   "outputs": [],
   "source": [
    "# paired classification results\n",
    "paired3_res = combine_stats([f'./results/{m}_HD-Flu-CoV-paired_5fold-5ep_results.csv' for m in models])\n",
    "paired3_res = paired3_res.drop(columns=['itr', 'test_loss', 'test_macro-precision', 'test_micro-precision', 'test_macro-recall', 'test_micro-recall', 'test_micro-f1'])\n",
    "paired3_res = paired3_res.sort_values(by=\"model\", key=lambda column: column.map(lambda e: models.index(e)))\n",
    "paired3_res"
   ]
  },
  {
   "cell_type": "code",
   "execution_count": null,
   "metadata": {},
   "outputs": [],
   "source": [
    "# unpaired classification results\n",
    "paired3_res = combine_stats([f'./results/{m}_HD-Flu-CoV-unpaired_5fold-5ep_results.csv' for m in models])\n",
    "paired3_res = paired3_res.drop(columns=['itr', 'test_loss', 'test_macro-precision', 'test_micro-precision', 'test_macro-recall', 'test_micro-recall', 'test_micro-f1'])\n",
    "paired3_res = paired3_res.sort_values(by=\"model\", key=lambda column: column.map(lambda e: models.index(e)))\n",
    "paired3_res"
   ]
  },
  {
   "cell_type": "markdown",
   "metadata": {},
   "source": [
    "### Accuracy bar plot"
   ]
  },
  {
   "cell_type": "code",
   "execution_count": 11,
   "metadata": {},
   "outputs": [],
   "source": [
    "def stats_for_plot(list_of_paths):\n",
    "    df = pd.concat([pd.read_csv(path) for path in list_of_paths]).reset_index(drop=True)\n",
    "    return df"
   ]
  },
  {
   "cell_type": "code",
   "execution_count": 13,
   "metadata": {},
   "outputs": [],
   "source": [
    "# load \n",
    "p3r = stats_for_plot([f'./results/{m}_HD-Flu-CoV-paired_5fold-5ep_results.csv' for m in models])"
   ]
  },
  {
   "cell_type": "code",
   "execution_count": 14,
   "metadata": {},
   "outputs": [],
   "source": [
    "# define color palette\n",
    "color_palette = sns.color_palette(\"hls\", 8)\n",
    "color_mapping = {'IgBERT': color_palette[3],\n",
    "                 'IgT5': color_palette[4],\n",
    "                 'AbLang2': color_palette[0],\n",
    "                 'AntiBERTa2': color_palette[6],\n",
    "                 'CurrAb': color_palette[5]}"
   ]
  },
  {
   "cell_type": "code",
   "execution_count": 15,
   "metadata": {},
   "outputs": [],
   "source": [
    "# sort models\n",
    "p3r['model'] = pd.Categorical(p3r['model'], categories=color_mapping.keys(), ordered=True)\n",
    "p3r = p3r.sort_values(by='model')"
   ]
  },
  {
   "cell_type": "code",
   "execution_count": null,
   "metadata": {},
   "outputs": [],
   "source": [
    "# barplot w ylim\n",
    "fig, ax = plt.subplots(figsize=(4.5, 5.8))\n",
    "sns.barplot(\n",
    "    data=p3r,\n",
    "    x=\"model\", y=\"test_accuracy\",\n",
    "    errorbar=\"se\",\n",
    "    hue=\"model\",\n",
    "    palette=color_mapping.values()\n",
    ")\n",
    "plt.ylim(0.3, 0.75)\n",
    "\n",
    "# random guessing line\n",
    "random_guess_accuracy = 1 / 3  # 33% for a three-way classification\n",
    "plt.axhline(y=random_guess_accuracy, color='black', linestyle='--', label='Random Guessing')\n",
    "plt.legend(loc='upper left', fontsize = 12)\n",
    "\n",
    "# labels and ticks\n",
    "ax.set_xlabel(None)\n",
    "plt.ylabel(\"Average Accuracy\", fontsize=14)\n",
    "ax.xaxis.set_tick_params(labelsize = 13)\n",
    "ax.yaxis.set_tick_params(labelsize = 11)\n",
    "plt.xticks(rotation=60)\n",
    "\n",
    "plt.tight_layout()\n",
    "\n",
    "plt.savefig(\"./results/3-paired-class_ylim.png\", dpi=300)"
   ]
  }
 ],
 "metadata": {
  "kernelspec": {
   "display_name": "Python 3 (ipykernel)",
   "language": "python",
   "name": "python3"
  },
  "language_info": {
   "codemirror_mode": {
    "name": "ipython",
    "version": 3
   },
   "file_extension": ".py",
   "mimetype": "text/x-python",
   "name": "python",
   "nbconvert_exporter": "python",
   "pygments_lexer": "ipython3",
   "version": "3.11.10"
  }
 },
 "nbformat": 4,
 "nbformat_minor": 4
}
